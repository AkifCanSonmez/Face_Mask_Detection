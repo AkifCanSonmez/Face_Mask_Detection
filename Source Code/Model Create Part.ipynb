{
 "cells": [
  {
   "cell_type": "markdown",
   "id": "d1477188",
   "metadata": {},
   "source": [
    "## Dataset Link: https://www.kaggle.com/omkargurav/face-mask-dataset"
   ]
  },
  {
   "cell_type": "code",
   "execution_count": 1,
   "id": "671bf22d",
   "metadata": {},
   "outputs": [],
   "source": [
    "import os\n",
    "import numpy as np\n",
    "from tensorflow.keras.models import Sequential\n",
    "from keras.layers import Dense, Dropout, Flatten, Conv2D, MaxPool2D\n",
    "from sklearn.model_selection import train_test_split\n",
    "import seaborn as sns\n",
    "import matplotlib.pyplot as plt\n",
    "from keras.preprocessing.image import ImageDataGenerator\n",
    "import warnings\n",
    "warnings.filterwarnings(\"ignore\")\n",
    "import cv2"
   ]
  },
  {
   "cell_type": "markdown",
   "id": "71673939",
   "metadata": {},
   "source": [
    "## Loading Images"
   ]
  },
  {
   "cell_type": "code",
   "execution_count": 2,
   "id": "511dcd81",
   "metadata": {
    "scrolled": true
   },
   "outputs": [
    {
     "name": "stdout",
     "output_type": "stream",
     "text": [
      "Label(sınıf) Sayısı 2\n"
     ]
    }
   ],
   "source": [
    "path = \"YUZ\"\n",
    "\n",
    "myList = os.listdir(path)\n",
    "noOfClasses = len(myList)\n",
    "\n",
    "print(\"Label(sınıf) Sayısı\", noOfClasses)"
   ]
  },
  {
   "cell_type": "markdown",
   "id": "36cdd2b6",
   "metadata": {},
   "source": [
    "## Resizing images as (32,32) for Model Requirement"
   ]
  },
  {
   "cell_type": "code",
   "execution_count": 3,
   "id": "7a3b8162",
   "metadata": {
    "scrolled": false
   },
   "outputs": [
    {
     "name": "stdout",
     "output_type": "stream",
     "text": [
      "7553\n",
      "7553\n"
     ]
    }
   ],
   "source": [
    "images = []\n",
    "classNo = []\n",
    "\n",
    "for i in range(noOfClasses):\n",
    "    myImageList = os.listdir(path + \"\\\\\"+str(i))\n",
    "    for j in myImageList:\n",
    "        img = cv2.imread(path + \"\\\\\"+str(i)+\"\\\\\"+j)\n",
    "        img = cv2.resize(img,(128,128))\n",
    "        images.append(img)\n",
    "        classNo.append(i)\n",
    "        \n",
    "print(len(images))\n",
    "print(len(classNo))"
   ]
  },
  {
   "cell_type": "markdown",
   "id": "2aecefe4",
   "metadata": {},
   "source": [
    "## Converting Images to Array\n"
   ]
  },
  {
   "cell_type": "code",
   "execution_count": 4,
   "id": "bfbe1e9b",
   "metadata": {},
   "outputs": [
    {
     "name": "stdout",
     "output_type": "stream",
     "text": [
      "(7553, 128, 128, 3)\n"
     ]
    }
   ],
   "source": [
    "images = np.array(images)\n",
    "classNo = np.array(classNo)\n",
    "\n",
    "print(images.shape)"
   ]
  },
  {
   "cell_type": "markdown",
   "id": "70924073",
   "metadata": {},
   "source": [
    "##  Splitting Data (%80 Train, %20 Validation)"
   ]
  },
  {
   "cell_type": "code",
   "execution_count": 5,
   "id": "97ec46e3",
   "metadata": {
    "scrolled": true
   },
   "outputs": [
    {
     "name": "stdout",
     "output_type": "stream",
     "text": [
      "(7553, 128, 128, 3)\n",
      "(6042, 128, 128, 3)\n",
      "(1511, 128, 128, 3)\n"
     ]
    }
   ],
   "source": [
    "#Veriyi Ayırma\n",
    "x_train, x_validation, y_train, y_validation = train_test_split(images,classNo,test_size = 0.2, random_state = 42)\n",
    "\n",
    "print(images.shape)\n",
    "print(x_train.shape)\n",
    "print(x_validation.shape)"
   ]
  },
  {
   "cell_type": "markdown",
   "id": "4553372c",
   "metadata": {},
   "source": [
    "## Preprocess"
   ]
  },
  {
   "cell_type": "code",
   "execution_count": 6,
   "id": "bb9c4d10",
   "metadata": {},
   "outputs": [],
   "source": [
    "def preProcess(img):\n",
    "    img = cv2.cvtColor(img,cv2.COLOR_BGR2GRAY)\n",
    "    img = cv2.equalizeHist(img)\n",
    "    img = img / 255\n",
    "    \n",
    "    return img\n",
    "\n",
    "x_train = np.array(list(map(preProcess, x_train)))\n",
    "x_validation = np.array(list(map(preProcess,x_validation)))\n",
    "\n",
    "x_train = x_train.reshape(-1,128,128,1)\n",
    "x_validation = x_validation.reshape(-1,128,128,1)\n",
    "\n"
   ]
  },
  {
   "cell_type": "markdown",
   "id": "c104c300",
   "metadata": {},
   "source": [
    "## Data Generate"
   ]
  },
  {
   "cell_type": "code",
   "execution_count": 7,
   "id": "16eb4c40",
   "metadata": {},
   "outputs": [],
   "source": [
    "image_gen = ImageDataGenerator(rotation_range = 20,\n",
    "                               width_shift_range = 0.1,\n",
    "                               height_shift_range = 0.1,\n",
    "                               shear_range = 0.1,\n",
    "                               zoom_range = 0.1,\n",
    "                               horizontal_flip = True,\n",
    "                               fill_mode = \"nearest\")\n",
    "\n",
    "image_gen.fit(x_train)\n"
   ]
  },
  {
   "cell_type": "markdown",
   "id": "d8351b01",
   "metadata": {},
   "source": [
    "## Creating Model"
   ]
  },
  {
   "cell_type": "code",
   "execution_count": 8,
   "id": "dafe0c0d",
   "metadata": {},
   "outputs": [],
   "source": [
    "model = Sequential()\n",
    "\n",
    "model.add(Conv2D(filters=32, kernel_size= (4,4), input_shape = (128,128,1), activation= \"relu\"))\n",
    "model.add(MaxPool2D(pool_size=(2,2)))\n",
    "\n",
    "model.add(Conv2D(filters=32, kernel_size= (4,4), input_shape = (128,128,1), activation= \"relu\"))\n",
    "model.add(MaxPool2D(pool_size=(2,2)))\n",
    "\n",
    "model.add(Conv2D(filters=32, kernel_size= (4,4), input_shape = (128,128,1), activation= \"relu\"))\n",
    "model.add(MaxPool2D(pool_size=(2,2)))\n",
    "\n",
    "model.add(Flatten())\n",
    "\n",
    "model.add(Dense(128,activation=\"relu\"))\n",
    "model.add(Dropout(0.5))\n",
    "\n",
    "model.add(Dense(1,activation=\"sigmoid\")) \n",
    "\n",
    "model.compile(loss = \"binary_crossentropy\", optimizer =\"adam\",\n",
    "              metrics = [\"accuracy\"])"
   ]
  },
  {
   "cell_type": "code",
   "execution_count": 9,
   "id": "31670ed1",
   "metadata": {
    "scrolled": true
   },
   "outputs": [
    {
     "name": "stdout",
     "output_type": "stream",
     "text": [
      "Epoch 1/10\n",
      "189/189 [==============================] - 66s 346ms/step - loss: 0.6050 - accuracy: 0.6592 - val_loss: 0.5150 - val_accuracy: 0.7498\n",
      "Epoch 2/10\n",
      "189/189 [==============================] - 67s 354ms/step - loss: 0.4362 - accuracy: 0.7953 - val_loss: 0.3913 - val_accuracy: 0.8226\n",
      "Epoch 3/10\n",
      "189/189 [==============================] - 73s 386ms/step - loss: 0.3426 - accuracy: 0.8461 - val_loss: 0.3289 - val_accuracy: 0.8498\n",
      "Epoch 4/10\n",
      "189/189 [==============================] - 69s 363ms/step - loss: 0.2830 - accuracy: 0.8777 - val_loss: 0.3021 - val_accuracy: 0.8743\n",
      "Epoch 5/10\n",
      "189/189 [==============================] - 67s 352ms/step - loss: 0.2208 - accuracy: 0.9042 - val_loss: 0.2810 - val_accuracy: 0.8829\n",
      "Epoch 6/10\n",
      "189/189 [==============================] - 72s 382ms/step - loss: 0.1823 - accuracy: 0.9239 - val_loss: 0.2769 - val_accuracy: 0.8848\n",
      "Epoch 7/10\n",
      "189/189 [==============================] - 69s 366ms/step - loss: 0.1439 - accuracy: 0.9434 - val_loss: 0.2881 - val_accuracy: 0.8915\n",
      "Epoch 8/10\n",
      "189/189 [==============================] - 70s 369ms/step - loss: 0.1105 - accuracy: 0.9558 - val_loss: 0.3162 - val_accuracy: 0.8875\n"
     ]
    },
    {
     "data": {
      "text/plain": [
       "<keras.callbacks.History at 0x23372c7cdf0>"
      ]
     },
     "execution_count": 9,
     "metadata": {},
     "output_type": "execute_result"
    }
   ],
   "source": [
    "from tensorflow.keras.callbacks import EarlyStopping \n",
    "early_stop = EarlyStopping(monitor = \"val_loss\",patience=2)\n",
    "\n",
    "model.fit(x_train,y_train,epochs=10,validation_data = (x_validation,y_validation),callbacks = [early_stop])"
   ]
  },
  {
   "cell_type": "markdown",
   "id": "3dee342f",
   "metadata": {},
   "source": [
    "## Saving Model"
   ]
  },
  {
   "cell_type": "code",
   "execution_count": 10,
   "id": "bcbcdcbe",
   "metadata": {},
   "outputs": [],
   "source": [
    "import pandas as pd"
   ]
  },
  {
   "cell_type": "code",
   "execution_count": 11,
   "id": "939f94ec",
   "metadata": {
    "scrolled": true
   },
   "outputs": [
    {
     "name": "stdout",
     "output_type": "stream",
     "text": [
      "INFO:tensorflow:Assets written to: modelfolder/assets\n"
     ]
    }
   ],
   "source": [
    "model.save(\"modelfolder/\")\n",
    "model.save_weights(\"modelfolder/\")"
   ]
  },
  {
   "cell_type": "code",
   "execution_count": 12,
   "id": "e310ca81",
   "metadata": {},
   "outputs": [],
   "source": [
    "metrics = model.history.history"
   ]
  },
  {
   "cell_type": "code",
   "execution_count": 13,
   "id": "69d3904d",
   "metadata": {},
   "outputs": [
    {
     "data": {
      "text/html": [
       "<div>\n",
       "<style scoped>\n",
       "    .dataframe tbody tr th:only-of-type {\n",
       "        vertical-align: middle;\n",
       "    }\n",
       "\n",
       "    .dataframe tbody tr th {\n",
       "        vertical-align: top;\n",
       "    }\n",
       "\n",
       "    .dataframe thead th {\n",
       "        text-align: right;\n",
       "    }\n",
       "</style>\n",
       "<table border=\"1\" class=\"dataframe\">\n",
       "  <thead>\n",
       "    <tr style=\"text-align: right;\">\n",
       "      <th></th>\n",
       "      <th>loss</th>\n",
       "      <th>accuracy</th>\n",
       "      <th>val_loss</th>\n",
       "      <th>val_accuracy</th>\n",
       "    </tr>\n",
       "  </thead>\n",
       "  <tbody>\n",
       "    <tr>\n",
       "      <th>0</th>\n",
       "      <td>0.604972</td>\n",
       "      <td>0.659219</td>\n",
       "      <td>0.515022</td>\n",
       "      <td>0.749835</td>\n",
       "    </tr>\n",
       "    <tr>\n",
       "      <th>1</th>\n",
       "      <td>0.436192</td>\n",
       "      <td>0.795266</td>\n",
       "      <td>0.391277</td>\n",
       "      <td>0.822634</td>\n",
       "    </tr>\n",
       "    <tr>\n",
       "      <th>2</th>\n",
       "      <td>0.342645</td>\n",
       "      <td>0.846077</td>\n",
       "      <td>0.328875</td>\n",
       "      <td>0.849768</td>\n",
       "    </tr>\n",
       "    <tr>\n",
       "      <th>3</th>\n",
       "      <td>0.282968</td>\n",
       "      <td>0.877689</td>\n",
       "      <td>0.302078</td>\n",
       "      <td>0.874255</td>\n",
       "    </tr>\n",
       "    <tr>\n",
       "      <th>4</th>\n",
       "      <td>0.220812</td>\n",
       "      <td>0.904171</td>\n",
       "      <td>0.280982</td>\n",
       "      <td>0.882859</td>\n",
       "    </tr>\n",
       "    <tr>\n",
       "      <th>5</th>\n",
       "      <td>0.182293</td>\n",
       "      <td>0.923866</td>\n",
       "      <td>0.276877</td>\n",
       "      <td>0.884844</td>\n",
       "    </tr>\n",
       "    <tr>\n",
       "      <th>6</th>\n",
       "      <td>0.143937</td>\n",
       "      <td>0.943396</td>\n",
       "      <td>0.288099</td>\n",
       "      <td>0.891463</td>\n",
       "    </tr>\n",
       "    <tr>\n",
       "      <th>7</th>\n",
       "      <td>0.110548</td>\n",
       "      <td>0.955809</td>\n",
       "      <td>0.316166</td>\n",
       "      <td>0.887492</td>\n",
       "    </tr>\n",
       "  </tbody>\n",
       "</table>\n",
       "</div>"
      ],
      "text/plain": [
       "       loss  accuracy  val_loss  val_accuracy\n",
       "0  0.604972  0.659219  0.515022      0.749835\n",
       "1  0.436192  0.795266  0.391277      0.822634\n",
       "2  0.342645  0.846077  0.328875      0.849768\n",
       "3  0.282968  0.877689  0.302078      0.874255\n",
       "4  0.220812  0.904171  0.280982      0.882859\n",
       "5  0.182293  0.923866  0.276877      0.884844\n",
       "6  0.143937  0.943396  0.288099      0.891463\n",
       "7  0.110548  0.955809  0.316166      0.887492"
      ]
     },
     "execution_count": 13,
     "metadata": {},
     "output_type": "execute_result"
    }
   ],
   "source": [
    "metrics = pd.DataFrame(model.history.history)\n",
    "metrics"
   ]
  },
  {
   "cell_type": "markdown",
   "id": "bc18713a",
   "metadata": {},
   "source": [
    "##  Loss and Accuracy Graphics"
   ]
  },
  {
   "cell_type": "code",
   "execution_count": 14,
   "id": "ca941237",
   "metadata": {
    "scrolled": true
   },
   "outputs": [
    {
     "data": {
      "image/png": "[encoded data removed]",
      "text/plain": [
       "<Figure size 432x288 with 1 Axes>"
      ]
     },
     "metadata": {
      "needs_background": "light"
     },
     "output_type": "display_data"
    }
   ],
   "source": [
    "plt.figure()\n",
    "plt.plot(metrics[\"loss\"], label = \"Train Loss\")\n",
    "plt.plot(metrics[\"val_loss\"], label = \"Validation Loss\")\n",
    "plt.legend()\n",
    "plt.show()"
   ]
  },
  {
   "cell_type": "code",
   "execution_count": 15,
   "id": "ba26cf7d",
   "metadata": {
    "scrolled": true
   },
   "outputs": [
    {
     "data": {
      "image/png": "[encoded data removed]",
      "text/plain": [
       "<Figure size 432x288 with 1 Axes>"
      ]
     },
     "metadata": {
      "needs_background": "light"
     },
     "output_type": "display_data"
    }
   ],
   "source": [
    "plt.figure()\n",
    "plt.plot(metrics[\"accuracy\"], label = \"Train Accuracy\")\n",
    "plt.plot(metrics[\"val_accuracy\"], label = \"Validation Accuracy\")\n",
    "plt.legend()\n",
    "plt.show()"
   ]
  }
 ],
 "metadata": {
  "kernelspec": {
   "display_name": "Python 3",
   "language": "python",
   "name": "python3"
  },
  "language_info": {
   "codemirror_mode": {
    "name": "ipython",
    "version": 3
   },
   "file_extension": ".py",
   "mimetype": "text/x-python",
   "name": "python",
   "nbconvert_exporter": "python",
   "pygments_lexer": "ipython3",
   "version": "3.8.8"
  }
 },
 "nbformat": 4,
 "nbformat_minor": 5
}
