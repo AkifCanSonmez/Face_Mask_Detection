{
 "cells": [
  {
   "cell_type": "code",
   "execution_count": 1,
   "id": "e6df6cae",
   "metadata": {},
   "outputs": [],
   "source": [
    "import os\n",
    "import numpy as np\n",
    "import cv2\n",
    "import keras.models"
   ]
  },
  {
   "cell_type": "markdown",
   "id": "69221603",
   "metadata": {},
   "source": [
    "##  Face_cascade "
   ]
  },
  {
   "cell_type": "code",
   "execution_count": 2,
   "id": "b1b9f412",
   "metadata": {},
   "outputs": [],
   "source": [
    "face_cascade = cv2.CascadeClassifier(\"haarcascade_frontalface_default.xml\")\n"
   ]
  },
  {
   "cell_type": "markdown",
   "id": "b1087068",
   "metadata": {},
   "source": [
    "##  Loading Model"
   ]
  },
  {
   "cell_type": "code",
   "execution_count": 3,
   "id": "a111c1e3",
   "metadata": {},
   "outputs": [],
   "source": [
    "model = keras.models.load_model(\"modelfolder/\")"
   ]
  },
  {
   "cell_type": "markdown",
   "id": "3d874866",
   "metadata": {},
   "source": [
    "## Preprocess"
   ]
  },
  {
   "cell_type": "code",
   "execution_count": 4,
   "id": "a00dc83d",
   "metadata": {},
   "outputs": [],
   "source": [
    "def preProcess(img):\n",
    "    img = np.asarray(img)\n",
    "    img = cv2.resize(img,(128,128))\n",
    "    img = cv2.cvtColor(img,cv2.COLOR_BGR2GRAY)\n",
    "    img = cv2.equalizeHist(img)\n",
    "    img = img/255.0\n",
    "    \n",
    "    return img"
   ]
  },
  {
   "cell_type": "code",
   "execution_count": 5,
   "id": "8b3a6060",
   "metadata": {
    "scrolled": true
   },
   "outputs": [
    {
     "name": "stdout",
     "output_type": "stream",
     "text": [
      "0.010340631\n",
      "0.006292939\n",
      "0.00360474\n",
      "0.004719645\n",
      "0.00501734\n",
      "0.0043358505\n",
      "0.0071742833\n",
      "0.006636083\n",
      "0.0040644407\n",
      "0.0047627687\n",
      "0.009629637\n",
      "0.005501628\n",
      "0.020273507\n",
      "0.18526188\n",
      "0.0734224\n",
      "0.09824395\n",
      "0.5938661\n",
      "0.059305906\n",
      "0.038909733\n",
      "0.059264213\n",
      "0.9989524\n",
      "0.08654666\n",
      "0.07730174\n",
      "0.9942684\n",
      "0.11699939\n",
      "0.9829875\n",
      "0.036973298\n",
      "0.9861523\n",
      "0.020859122\n",
      "0.027792335\n",
      "0.028354973\n",
      "0.020344853\n",
      "0.022571623\n",
      "0.017611295\n",
      "0.022742301\n",
      "0.96251816\n",
      "0.9914879\n",
      "0.19112954\n",
      "0.23833677\n",
      "0.09546456\n",
      "0.9989301\n",
      "0.99922925\n",
      "0.93044853\n",
      "0.9999317\n",
      "0.99994826\n",
      "0.88198054\n",
      "0.9977569\n",
      "0.9993427\n",
      "0.9951284\n",
      "0.98883194\n",
      "0.99511623\n",
      "0.9980121\n",
      "0.99694955\n",
      "0.9926022\n",
      "0.9957509\n",
      "0.99117875\n"
     ]
    }
   ],
   "source": [
    "cap = cv2.VideoCapture(0)\n",
    "cap.set(3,480)\n",
    "cap.set(4,480)\n",
    "while True:\n",
    "    success, frame = cap.read()\n",
    "\n",
    "    try:\n",
    "        ## Detecting face, then Cropping and Resizing image to get better predict score \n",
    "        face_rect = face_cascade.detectMultiScale(frame,minNeighbors = 3)\n",
    "        (x,y,w,h) = face_rect[0]\n",
    "        img = frame[y-60:y+h+40,x:x+w+50]\n",
    "        \n",
    "        # Preprocessing\n",
    "        img = preProcess(img)\n",
    "        img = img.reshape(1,128,128,1)\n",
    "\n",
    "        #predict\n",
    "        predict_x = model.predict(img)\n",
    "\n",
    "        predictions = model.predict(img)\n",
    "        probVal = np.amax(predictions)\n",
    "        print(probVal)\n",
    "        \n",
    "        if probVal > 0.5:\n",
    "            frame = cv2.rectangle(frame, (x-20,y+20),(x+w+20,y+h+30), (255,0,0),2)           \n",
    "            cv2.putText(frame, \"   With Mask\" + \" %\"+ str(int(100*probVal)),(x-110,y+10),cv2.FONT_HERSHEY_PLAIN,3,(255,0,0),3)\n",
    "            \n",
    "        else:\n",
    "            frame = cv2.rectangle(frame, (x-30,y-100),(x+w+20,y+h+30), (255,0,0),2)           \n",
    "            cv2.putText(frame, \"Without Mask\" + \" %\"+ str(int(100*(1-probVal))),(x-110,y-110),cv2.FONT_HERSHEY_PLAIN,3,(255,0,0),3)\n",
    "        \n",
    "    except:\n",
    "        pass        \n",
    "\n",
    "    cv2.imshow(\"Mask Detection\",frame)\n",
    "    if cv2.waitKey(1) & 0xFF == ord(\"q\"):\n",
    "        break\n",
    "        \n",
    "cap.release()\n",
    "cv2.destroyAllWindows()"
   ]
  }
 ],
 "metadata": {
  "kernelspec": {
   "display_name": "Python 3",
   "language": "python",
   "name": "python3"
  },
  "language_info": {
   "codemirror_mode": {
    "name": "ipython",
    "version": 3
   },
   "file_extension": ".py",
   "mimetype": "text/x-python",
   "name": "python",
   "nbconvert_exporter": "python",
   "pygments_lexer": "ipython3",
   "version": "3.8.8"
  }
 },
 "nbformat": 4,
 "nbformat_minor": 5
}
